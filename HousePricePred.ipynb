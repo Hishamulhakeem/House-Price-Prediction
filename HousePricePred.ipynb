{
 "cells": [
  {
   "cell_type": "code",
   "execution_count": 4,
   "id": "f87d9c6c",
   "metadata": {},
   "outputs": [],
   "source": [
    "import pandas as pd\n",
    "data='./data/(Org)Mumbai_House_Price_Pred.csv'\n",
    "df1 = pd.read_csv(data)\n",
    "df1.dropna(inplace=True)\n",
    "df1.drop(columns=['Price'],inplace=True)"
   ]
  },
  {
   "cell_type": "code",
   "execution_count": 5,
   "id": "ff695e19",
   "metadata": {},
   "outputs": [
    {
     "data": {
      "text/html": [
       "<div>\n",
       "<style scoped>\n",
       "    .dataframe tbody tr th:only-of-type {\n",
       "        vertical-align: middle;\n",
       "    }\n",
       "\n",
       "    .dataframe tbody tr th {\n",
       "        vertical-align: top;\n",
       "    }\n",
       "\n",
       "    .dataframe thead th {\n",
       "        text-align: right;\n",
       "    }\n",
       "</style>\n",
       "<table border=\"1\" class=\"dataframe\">\n",
       "  <thead>\n",
       "    <tr style=\"text-align: right;\">\n",
       "      <th></th>\n",
       "      <th>Bedroom</th>\n",
       "      <th>Bathroom</th>\n",
       "      <th>Area</th>\n",
       "      <th>Location</th>\n",
       "      <th>Age of property</th>\n",
       "      <th>Nearby amenities</th>\n",
       "      <th>Parking space</th>\n",
       "      <th>Property type</th>\n",
       "    </tr>\n",
       "  </thead>\n",
       "  <tbody>\n",
       "    <tr>\n",
       "      <th>0</th>\n",
       "      <td>1</td>\n",
       "      <td>1</td>\n",
       "      <td>743</td>\n",
       "      <td>Powai</td>\n",
       "      <td>50</td>\n",
       "      <td>Playground, Cafe</td>\n",
       "      <td>1</td>\n",
       "      <td>Apartment</td>\n",
       "    </tr>\n",
       "    <tr>\n",
       "      <th>1</th>\n",
       "      <td>5</td>\n",
       "      <td>2</td>\n",
       "      <td>2884</td>\n",
       "      <td>Malad</td>\n",
       "      <td>5</td>\n",
       "      <td>Gym, Pool</td>\n",
       "      <td>1</td>\n",
       "      <td>Townhouse</td>\n",
       "    </tr>\n",
       "    <tr>\n",
       "      <th>2</th>\n",
       "      <td>3</td>\n",
       "      <td>1</td>\n",
       "      <td>4799</td>\n",
       "      <td>Borivali</td>\n",
       "      <td>40</td>\n",
       "      <td>Gym, Pool</td>\n",
       "      <td>1</td>\n",
       "      <td>Penthouse</td>\n",
       "    </tr>\n",
       "    <tr>\n",
       "      <th>3</th>\n",
       "      <td>2</td>\n",
       "      <td>3</td>\n",
       "      <td>2107</td>\n",
       "      <td>Worli</td>\n",
       "      <td>45</td>\n",
       "      <td>Hospital, Market</td>\n",
       "      <td>2</td>\n",
       "      <td>Penthouse</td>\n",
       "    </tr>\n",
       "    <tr>\n",
       "      <th>4</th>\n",
       "      <td>2</td>\n",
       "      <td>3</td>\n",
       "      <td>2731</td>\n",
       "      <td>Colaba</td>\n",
       "      <td>50</td>\n",
       "      <td>Playground, Cafe</td>\n",
       "      <td>3</td>\n",
       "      <td>Villa</td>\n",
       "    </tr>\n",
       "  </tbody>\n",
       "</table>\n",
       "</div>"
      ],
      "text/plain": [
       "   Bedroom  Bathroom  Area  Location  Age of property  Nearby amenities  \\\n",
       "0        1         1   743     Powai               50  Playground, Cafe   \n",
       "1        5         2  2884     Malad                5         Gym, Pool   \n",
       "2        3         1  4799  Borivali               40         Gym, Pool   \n",
       "3        2         3  2107     Worli               45  Hospital, Market   \n",
       "4        2         3  2731    Colaba               50  Playground, Cafe   \n",
       "\n",
       "   Parking space Property type  \n",
       "0              1     Apartment  \n",
       "1              1     Townhouse  \n",
       "2              1     Penthouse  \n",
       "3              2     Penthouse  \n",
       "4              3         Villa  "
      ]
     },
     "execution_count": 5,
     "metadata": {},
     "output_type": "execute_result"
    }
   ],
   "source": [
    "df1.head()"
   ]
  },
  {
   "cell_type": "code",
   "execution_count": 21,
   "id": "5970f056",
   "metadata": {},
   "outputs": [
    {
     "name": "stdout",
     "output_type": "stream",
     "text": [
      "House Features : \n",
      "Bedroom, Bathroom, Area, Location, Age of property, Nearby amenities, Parking space, Property type, \n",
      "\n",
      "Enter the features you're looking in a house: Area,Bedroom,Location,Age of property,Property type\n",
      "\n",
      "Selected features in a house: Bedroom, Area, Location, Age of property, Property type\n"
     ]
    }
   ],
   "source": [
    "cols = []\n",
    "print(\"House Features : \")\n",
    "for col in df1.columns:\n",
    "    print(col, end=', ')\n",
    "\n",
    "cols = input(\"\\n\\nEnter the features you're looking in a house: \").split(',')\n",
    "valid_cols = [col for col in cols if col in df1.columns]\n",
    "if not valid_cols or len(cols) == 1:\n",
    "    print(\"\\nInvalid selection or Selected single feature\")\n",
    "    exit()\n",
    "else :\n",
    "    df2 = pd.read_csv(data, usecols=valid_cols + ['Price'])\n",
    "\n",
    "    df2[\"Price\"] = df2[\"Price\"].replace(',', '', regex=True).astype(int)\n",
    "\n",
    "    features = [col for col in df2.columns if col != 'Price']\n",
    "    print(\"\\nSelected features in a house: \" + \", \".join(features))"
   ]
  },
  {
   "cell_type": "code",
   "execution_count": 22,
   "id": "c5cadcd2",
   "metadata": {},
   "outputs": [
    {
     "data": {
      "text/html": [
       "<div>\n",
       "<style scoped>\n",
       "    .dataframe tbody tr th:only-of-type {\n",
       "        vertical-align: middle;\n",
       "    }\n",
       "\n",
       "    .dataframe tbody tr th {\n",
       "        vertical-align: top;\n",
       "    }\n",
       "\n",
       "    .dataframe thead th {\n",
       "        text-align: right;\n",
       "    }\n",
       "</style>\n",
       "<table border=\"1\" class=\"dataframe\">\n",
       "  <thead>\n",
       "    <tr style=\"text-align: right;\">\n",
       "      <th></th>\n",
       "      <th>Bedroom</th>\n",
       "      <th>Area</th>\n",
       "      <th>Age of property</th>\n",
       "      <th>Price</th>\n",
       "    </tr>\n",
       "  </thead>\n",
       "  <tbody>\n",
       "    <tr>\n",
       "      <th>count</th>\n",
       "      <td>400.000000</td>\n",
       "      <td>400.000000</td>\n",
       "      <td>400.000000</td>\n",
       "      <td>4.000000e+02</td>\n",
       "    </tr>\n",
       "    <tr>\n",
       "      <th>mean</th>\n",
       "      <td>3.517500</td>\n",
       "      <td>2765.395000</td>\n",
       "      <td>27.625000</td>\n",
       "      <td>3.358775e+07</td>\n",
       "    </tr>\n",
       "    <tr>\n",
       "      <th>std</th>\n",
       "      <td>1.690218</td>\n",
       "      <td>1240.210175</td>\n",
       "      <td>14.074965</td>\n",
       "      <td>1.418074e+07</td>\n",
       "    </tr>\n",
       "    <tr>\n",
       "      <th>min</th>\n",
       "      <td>1.000000</td>\n",
       "      <td>525.000000</td>\n",
       "      <td>5.000000</td>\n",
       "      <td>4.600000e+06</td>\n",
       "    </tr>\n",
       "    <tr>\n",
       "      <th>25%</th>\n",
       "      <td>2.000000</td>\n",
       "      <td>1667.250000</td>\n",
       "      <td>15.000000</td>\n",
       "      <td>2.115000e+07</td>\n",
       "    </tr>\n",
       "    <tr>\n",
       "      <th>50%</th>\n",
       "      <td>4.000000</td>\n",
       "      <td>2777.000000</td>\n",
       "      <td>30.000000</td>\n",
       "      <td>3.460000e+07</td>\n",
       "    </tr>\n",
       "    <tr>\n",
       "      <th>75%</th>\n",
       "      <td>5.000000</td>\n",
       "      <td>3875.500000</td>\n",
       "      <td>40.000000</td>\n",
       "      <td>5.000000e+07</td>\n",
       "    </tr>\n",
       "    <tr>\n",
       "      <th>max</th>\n",
       "      <td>6.000000</td>\n",
       "      <td>4984.000000</td>\n",
       "      <td>50.000000</td>\n",
       "      <td>5.000000e+07</td>\n",
       "    </tr>\n",
       "  </tbody>\n",
       "</table>\n",
       "</div>"
      ],
      "text/plain": [
       "          Bedroom         Area  Age of property         Price\n",
       "count  400.000000   400.000000       400.000000  4.000000e+02\n",
       "mean     3.517500  2765.395000        27.625000  3.358775e+07\n",
       "std      1.690218  1240.210175        14.074965  1.418074e+07\n",
       "min      1.000000   525.000000         5.000000  4.600000e+06\n",
       "25%      2.000000  1667.250000        15.000000  2.115000e+07\n",
       "50%      4.000000  2777.000000        30.000000  3.460000e+07\n",
       "75%      5.000000  3875.500000        40.000000  5.000000e+07\n",
       "max      6.000000  4984.000000        50.000000  5.000000e+07"
      ]
     },
     "execution_count": 22,
     "metadata": {},
     "output_type": "execute_result"
    }
   ],
   "source": [
    "df2.describe()"
   ]
  },
  {
   "cell_type": "code",
   "execution_count": 114,
   "id": "d34a1574",
   "metadata": {},
   "outputs": [
    {
     "data": {
      "image/png": "[encoded data removed]",
      "text/plain": [
       "<Figure size 1000x500 with 1 Axes>"
      ]
     },
     "metadata": {},
     "output_type": "display_data"
    }
   ],
   "source": [
    "import seaborn as sns\n",
    "import matplotlib.pyplot as plt\n",
    "\n",
    "plt.figure(figsize=(10,5))\n",
    "sns.boxplot(x=df1[\"Location\"], y=df2[\"Price\"])\n",
    "plt.xticks(rotation=1)\n",
    "plt.title(\"Price Distribution Across Area\")\n",
    "plt.show()"
   ]
  },
  {
   "cell_type": "code",
   "execution_count": 115,
   "id": "4fe72855",
   "metadata": {},
   "outputs": [
    {
     "data": {
      "image/png": "[encoded data removed]",
      "text/plain": [
       "<Figure size 1000x500 with 1 Axes>"
      ]
     },
     "metadata": {},
     "output_type": "display_data"
    }
   ],
   "source": [
    "plt.figure(figsize=(10,5))\n",
    "sns.boxplot(x=df1[\"Bedroom\"], y=df2[\"Price\"])\n",
    "plt.title(\"Price Distribution across Bedroom \")\n",
    "plt.show()"
   ]
  },
  {
   "cell_type": "code",
   "execution_count": 117,
   "id": "c230518a",
   "metadata": {},
   "outputs": [
    {
     "data": {
      "text/plain": [
       "Text(0, 0.5, 'Count')"
      ]
     },
     "execution_count": 117,
     "metadata": {},
     "output_type": "execute_result"
    },
    {
     "data": {
      "image/png": "[encoded data removed]",
      "text/plain": [
       "<Figure size 640x480 with 1 Axes>"
      ]
     },
     "metadata": {},
     "output_type": "display_data"
    }
   ],
   "source": [
    "df1[\"Age of property\"].value_counts().plot(kind='bar')\n",
    "plt.title('Age of Property')\n",
    "plt.xlabel('Age')\n",
    "plt.ylabel('Count')\n"
   ]
  },
  {
   "cell_type": "code",
   "execution_count": 23,
   "id": "0b631f37",
   "metadata": {
    "scrolled": true
   },
   "outputs": [
    {
     "data": {
      "text/html": [
       "<style>#sk-container-id-2 {color: black;}#sk-container-id-2 pre{padding: 0;}#sk-container-id-2 div.sk-toggleable {background-color: white;}#sk-container-id-2 label.sk-toggleable__label {cursor: pointer;display: block;width: 100%;margin-bottom: 0;padding: 0.3em;box-sizing: border-box;text-align: center;}#sk-container-id-2 label.sk-toggleable__label-arrow:before {content: \"▸\";float: left;margin-right: 0.25em;color: #696969;}#sk-container-id-2 label.sk-toggleable__label-arrow:hover:before {color: black;}#sk-container-id-2 div.sk-estimator:hover label.sk-toggleable__label-arrow:before {color: black;}#sk-container-id-2 div.sk-toggleable__content {max-height: 0;max-width: 0;overflow: hidden;text-align: left;background-color: #f0f8ff;}#sk-container-id-2 div.sk-toggleable__content pre {margin: 0.2em;color: black;border-radius: 0.25em;background-color: #f0f8ff;}#sk-container-id-2 input.sk-toggleable__control:checked~div.sk-toggleable__content {max-height: 200px;max-width: 100%;overflow: auto;}#sk-container-id-2 input.sk-toggleable__control:checked~label.sk-toggleable__label-arrow:before {content: \"▾\";}#sk-container-id-2 div.sk-estimator input.sk-toggleable__control:checked~label.sk-toggleable__label {background-color: #d4ebff;}#sk-container-id-2 div.sk-label input.sk-toggleable__control:checked~label.sk-toggleable__label {background-color: #d4ebff;}#sk-container-id-2 input.sk-hidden--visually {border: 0;clip: rect(1px 1px 1px 1px);clip: rect(1px, 1px, 1px, 1px);height: 1px;margin: -1px;overflow: hidden;padding: 0;position: absolute;width: 1px;}#sk-container-id-2 div.sk-estimator {font-family: monospace;background-color: #f0f8ff;border: 1px dotted black;border-radius: 0.25em;box-sizing: border-box;margin-bottom: 0.5em;}#sk-container-id-2 div.sk-estimator:hover {background-color: #d4ebff;}#sk-container-id-2 div.sk-parallel-item::after {content: \"\";width: 100%;border-bottom: 1px solid gray;flex-grow: 1;}#sk-container-id-2 div.sk-label:hover label.sk-toggleable__label {background-color: #d4ebff;}#sk-container-id-2 div.sk-serial::before {content: \"\";position: absolute;border-left: 1px solid gray;box-sizing: border-box;top: 0;bottom: 0;left: 50%;z-index: 0;}#sk-container-id-2 div.sk-serial {display: flex;flex-direction: column;align-items: center;background-color: white;padding-right: 0.2em;padding-left: 0.2em;position: relative;}#sk-container-id-2 div.sk-item {position: relative;z-index: 1;}#sk-container-id-2 div.sk-parallel {display: flex;align-items: stretch;justify-content: center;background-color: white;position: relative;}#sk-container-id-2 div.sk-item::before, #sk-container-id-2 div.sk-parallel-item::before {content: \"\";position: absolute;border-left: 1px solid gray;box-sizing: border-box;top: 0;bottom: 0;left: 50%;z-index: -1;}#sk-container-id-2 div.sk-parallel-item {display: flex;flex-direction: column;z-index: 1;position: relative;background-color: white;}#sk-container-id-2 div.sk-parallel-item:first-child::after {align-self: flex-end;width: 50%;}#sk-container-id-2 div.sk-parallel-item:last-child::after {align-self: flex-start;width: 50%;}#sk-container-id-2 div.sk-parallel-item:only-child::after {width: 0;}#sk-container-id-2 div.sk-dashed-wrapped {border: 1px dashed gray;margin: 0 0.4em 0.5em 0.4em;box-sizing: border-box;padding-bottom: 0.4em;background-color: white;}#sk-container-id-2 div.sk-label label {font-family: monospace;font-weight: bold;display: inline-block;line-height: 1.2em;}#sk-container-id-2 div.sk-label-container {text-align: center;}#sk-container-id-2 div.sk-container {/* jupyter's `normalize.less` sets `[hidden] { display: none; }` but bootstrap.min.css set `[hidden] { display: none !important; }` so we also need the `!important` here to be able to override the default hidden behavior on the sphinx rendered scikit-learn.org. See: https://github.com/scikit-learn/scikit-learn/issues/21755 */display: inline-block !important;position: relative;}#sk-container-id-2 div.sk-text-repr-fallback {display: none;}</style><div id=\"sk-container-id-2\" class=\"sk-top-container\"><div class=\"sk-text-repr-fallback\"><pre>Pipeline(steps=[(&#x27;preprocessor&#x27;,\n",
       "                 ColumnTransformer(transformers=[(&#x27;numbers&#x27;, &#x27;passthrough&#x27;,\n",
       "                                                  [&#x27;Area&#x27;, &#x27;Bedroom&#x27;,\n",
       "                                                   &#x27;Age of property&#x27;]),\n",
       "                                                 (&#x27;Strings&#x27;, OneHotEncoder(),\n",
       "                                                  [&#x27;Location&#x27;,\n",
       "                                                   &#x27;Property type&#x27;])])),\n",
       "                (&#x27;regressor&#x27;, RandomForestRegressor(max_depth=5))])</pre><b>In a Jupyter environment, please rerun this cell to show the HTML representation or trust the notebook. <br />On GitHub, the HTML representation is unable to render, please try loading this page with nbviewer.org.</b></div><div class=\"sk-container\" hidden><div class=\"sk-item sk-dashed-wrapped\"><div class=\"sk-label-container\"><div class=\"sk-label sk-toggleable\"><input class=\"sk-toggleable__control sk-hidden--visually\" id=\"sk-estimator-id-8\" type=\"checkbox\" ><label for=\"sk-estimator-id-8\" class=\"sk-toggleable__label sk-toggleable__label-arrow\">Pipeline</label><div class=\"sk-toggleable__content\"><pre>Pipeline(steps=[(&#x27;preprocessor&#x27;,\n",
       "                 ColumnTransformer(transformers=[(&#x27;numbers&#x27;, &#x27;passthrough&#x27;,\n",
       "                                                  [&#x27;Area&#x27;, &#x27;Bedroom&#x27;,\n",
       "                                                   &#x27;Age of property&#x27;]),\n",
       "                                                 (&#x27;Strings&#x27;, OneHotEncoder(),\n",
       "                                                  [&#x27;Location&#x27;,\n",
       "                                                   &#x27;Property type&#x27;])])),\n",
       "                (&#x27;regressor&#x27;, RandomForestRegressor(max_depth=5))])</pre></div></div></div><div class=\"sk-serial\"><div class=\"sk-item sk-dashed-wrapped\"><div class=\"sk-label-container\"><div class=\"sk-label sk-toggleable\"><input class=\"sk-toggleable__control sk-hidden--visually\" id=\"sk-estimator-id-9\" type=\"checkbox\" ><label for=\"sk-estimator-id-9\" class=\"sk-toggleable__label sk-toggleable__label-arrow\">preprocessor: ColumnTransformer</label><div class=\"sk-toggleable__content\"><pre>ColumnTransformer(transformers=[(&#x27;numbers&#x27;, &#x27;passthrough&#x27;,\n",
       "                                 [&#x27;Area&#x27;, &#x27;Bedroom&#x27;, &#x27;Age of property&#x27;]),\n",
       "                                (&#x27;Strings&#x27;, OneHotEncoder(),\n",
       "                                 [&#x27;Location&#x27;, &#x27;Property type&#x27;])])</pre></div></div></div><div class=\"sk-parallel\"><div class=\"sk-parallel-item\"><div class=\"sk-item\"><div class=\"sk-label-container\"><div class=\"sk-label sk-toggleable\"><input class=\"sk-toggleable__control sk-hidden--visually\" id=\"sk-estimator-id-10\" type=\"checkbox\" ><label for=\"sk-estimator-id-10\" class=\"sk-toggleable__label sk-toggleable__label-arrow\">numbers</label><div class=\"sk-toggleable__content\"><pre>[&#x27;Area&#x27;, &#x27;Bedroom&#x27;, &#x27;Age of property&#x27;]</pre></div></div></div><div class=\"sk-serial\"><div class=\"sk-item\"><div class=\"sk-estimator sk-toggleable\"><input class=\"sk-toggleable__control sk-hidden--visually\" id=\"sk-estimator-id-11\" type=\"checkbox\" ><label for=\"sk-estimator-id-11\" class=\"sk-toggleable__label sk-toggleable__label-arrow\">passthrough</label><div class=\"sk-toggleable__content\"><pre>passthrough</pre></div></div></div></div></div></div><div class=\"sk-parallel-item\"><div class=\"sk-item\"><div class=\"sk-label-container\"><div class=\"sk-label sk-toggleable\"><input class=\"sk-toggleable__control sk-hidden--visually\" id=\"sk-estimator-id-12\" type=\"checkbox\" ><label for=\"sk-estimator-id-12\" class=\"sk-toggleable__label sk-toggleable__label-arrow\">Strings</label><div class=\"sk-toggleable__content\"><pre>[&#x27;Location&#x27;, &#x27;Property type&#x27;]</pre></div></div></div><div class=\"sk-serial\"><div class=\"sk-item\"><div class=\"sk-estimator sk-toggleable\"><input class=\"sk-toggleable__control sk-hidden--visually\" id=\"sk-estimator-id-13\" type=\"checkbox\" ><label for=\"sk-estimator-id-13\" class=\"sk-toggleable__label sk-toggleable__label-arrow\">OneHotEncoder</label><div class=\"sk-toggleable__content\"><pre>OneHotEncoder()</pre></div></div></div></div></div></div></div></div><div class=\"sk-item\"><div class=\"sk-estimator sk-toggleable\"><input class=\"sk-toggleable__control sk-hidden--visually\" id=\"sk-estimator-id-14\" type=\"checkbox\" ><label for=\"sk-estimator-id-14\" class=\"sk-toggleable__label sk-toggleable__label-arrow\">RandomForestRegressor</label><div class=\"sk-toggleable__content\"><pre>RandomForestRegressor(max_depth=5)</pre></div></div></div></div></div></div></div>"
      ],
      "text/plain": [
       "Pipeline(steps=[('preprocessor',\n",
       "                 ColumnTransformer(transformers=[('numbers', 'passthrough',\n",
       "                                                  ['Area', 'Bedroom',\n",
       "                                                   'Age of property']),\n",
       "                                                 ('Strings', OneHotEncoder(),\n",
       "                                                  ['Location',\n",
       "                                                   'Property type'])])),\n",
       "                ('regressor', RandomForestRegressor(max_depth=5))])"
      ]
     },
     "execution_count": 23,
     "metadata": {},
     "output_type": "execute_result"
    }
   ],
   "source": [
    "from sklearn.model_selection import train_test_split\n",
    "from sklearn.ensemble import RandomForestRegressor \n",
    "from sklearn.preprocessing import OneHotEncoder\n",
    "from sklearn.compose import ColumnTransformer\n",
    "from sklearn.pipeline import Pipeline\n",
    "\n",
    "preprocessor = ColumnTransformer(\n",
    "    transformers=[\n",
    "        ('numbers', 'passthrough', [feature for feature in cols if df2[feature].dtype in ['int64', 'float64']]),\n",
    "        ('Strings', OneHotEncoder(), [feature for feature in cols if df2[feature].dtype == 'object'])\n",
    "    ])\n",
    "\n",
    "# Model pipeline\n",
    "model = Pipeline(steps=[\n",
    "    ('preprocessor', preprocessor),\n",
    "    ('regressor', RandomForestRegressor(max_depth=5))\n",
    "])\n",
    "\n",
    "X = df2[cols]\n",
    "y = df2['Price']\n",
    "\n",
    "X_train, X_test, y_train, y_test = train_test_split(X, y, test_size=0.3, random_state=42)\n",
    "\n",
    "model.fit(X_train, y_train)"
   ]
  },
  {
   "cell_type": "code",
   "execution_count": null,
   "id": "29009f9f",
   "metadata": {},
   "outputs": [],
   "source": [
    "\n"
   ]
  },
  {
   "cell_type": "code",
   "execution_count": 24,
   "id": "fb5ed684",
   "metadata": {},
   "outputs": [
    {
     "name": "stdout",
     "output_type": "stream",
     "text": [
      "Area : 3000\n",
      "Bedroom : 3\n",
      "Location : Thane\n",
      "Age of property : 20\n",
      "Property type : Penthouse\n",
      "\n",
      "The predicted price for the house is: ₹ 31000000.0\n"
     ]
    }
   ],
   "source": [
    "user_input = {}\n",
    "for feature in cols:\n",
    "    user_input[feature] = input(f\"{feature} : \").strip()  \n",
    "\n",
    "user_df = pd.DataFrame([user_input])\n",
    "y_pred = model.predict(user_df)\n",
    "\n",
    "round_price = round(y_pred[0],-5)\n",
    "\n",
    "print()\n",
    "print(f\"The predicted price for the house is: ₹ {round_price}\")"
   ]
  },
  {
   "cell_type": "code",
   "execution_count": 29,
   "id": "45d88009",
   "metadata": {},
   "outputs": [
    {
     "name": "stdout",
     "output_type": "stream",
     "text": [
      "\n",
      "Model Performance:\n",
      "R^2 Score : 0.9473\n"
     ]
    }
   ],
   "source": [
    "from sklearn.metrics import r2_score\n",
    "\n",
    "y_pred1=model.predict(X_test)\n",
    "\n",
    "print(\"\\nModel Performance:\")\n",
    "print(f\"R^2 Score : {r2_score(y_test, y_pred1):.4f}\")"
   ]
  }
 ],
 "metadata": {
  "kernelspec": {
   "display_name": "Python 3 (ipykernel)",
   "language": "python",
   "name": "python3"
  },
  "language_info": {
   "codemirror_mode": {
    "name": "ipython",
    "version": 3
   },
   "file_extension": ".py",
   "mimetype": "text/x-python",
   "name": "python",
   "nbconvert_exporter": "python",
   "pygments_lexer": "ipython3",
   "version": "3.11.5"
  }
 },
 "nbformat": 4,
 "nbformat_minor": 5
}
